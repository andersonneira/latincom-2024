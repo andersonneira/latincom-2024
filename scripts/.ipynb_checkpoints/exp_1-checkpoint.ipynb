{
 "cells": [
  {
   "cell_type": "code",
   "execution_count": 12,
   "metadata": {
    "scrolled": true
   },
   "outputs": [],
   "source": [
    "import pandas as pd\n",
    "import matplotlib.pyplot as plt\n",
    "from mpl_toolkits import mplot3d\n",
    "import numpy as np\n",
    "from sklearn import metrics\n",
    "from sklearn.mixture import GaussianMixture\n",
    "from sklearn_som.som import SOM\n",
    "from sklearn.cluster import *\n",
    "from sklearn.metrics import classification_report\n",
    "from sklearn.metrics import confusion_matrix, accuracy_score\n",
    "import numpy as np\n",
    "from sklearn.preprocessing import MinMaxScaler\n",
    "from announce import *\n",
    "from sklearn.decomposition import *\n",
    "from sklearn.manifold import *\n",
    "import time\n",
    "start = time.time()\n",
    "early_warning_url = \"../data/early_warning_exp_1.csv\"\n",
    "early_warning = pd.read_csv(early_warning_url, sep=\";\")"
   ]
  },
  {
   "cell_type": "markdown",
   "metadata": {},
   "source": [
    "# Reproduce Globecom"
   ]
  },
  {
   "cell_type": "code",
   "execution_count": 27,
   "metadata": {},
   "outputs": [
    {
     "name": "stdout",
     "output_type": "stream",
     "text": [
      "[[413  45]\n",
      " [ 32  10]]\n",
      "              precision    recall  f1-score   support\n",
      "\n",
      "           0     0.9281    0.9017    0.9147       458\n",
      "           1     0.1818    0.2381    0.2062        42\n",
      "\n",
      "    accuracy                         0.8460       500\n",
      "   macro avg     0.5550    0.5699    0.5605       500\n",
      "weighted avg     0.8654    0.8460    0.8552       500\n",
      "\n"
     ]
    }
   ],
   "source": [
    "colunas = ['10_kurt_total_ips_origem', '10_skw_total_ips_destino', '10_coefficient_variation_total_pacotes' ]\n",
    "limit = 3794\n",
    "init = limit - 500\n",
    "x_train = early_warning[colunas].copy()[init:limit]\n",
    "y_real = early_warning['has_bot'][init:limit]\n",
    "clustering = KMeans(n_clusters=2).fit(x_train)    \n",
    "y_test = clustering.labels_\n",
    "print(confusion_matrix(y_real, y_test))\n",
    "print(classification_report(y_real, y_test, digits=4))"
   ]
  },
  {
   "cell_type": "markdown",
   "metadata": {},
   "source": [
    "# Test FS"
   ]
  },
  {
   "cell_type": "code",
   "execution_count": 5,
   "metadata": {},
   "outputs": [
    {
     "name": "stdout",
     "output_type": "stream",
     "text": [
      "Index(['10_skw_total_pacotes', '10_kurt_total_pacotes',\n",
      "       '10_coefficient_variation_total_pacotes', '10_lag-1AC_total_pacotes',\n",
      "       '10_lag-2AC_total_pacotes', '10_lag-3AC_total_pacotes',\n",
      "       '10_skw_total_pacotes_icmp', '10_kurt_total_pacotes_icmp',\n",
      "       '10_coefficient_variation_total_pacotes_icmp',\n",
      "       '10_lag-1AC_total_pacotes_icmp',\n",
      "       ...\n",
      "       '10_coefficient_variation_std_tcp_time_relative',\n",
      "       '10_lag-1AC_std_tcp_time_relative', '10_lag-2AC_std_tcp_time_relative',\n",
      "       '10_lag-3AC_std_tcp_time_relative', '10_skw_mean_tcp_time_relative',\n",
      "       '10_kurt_mean_tcp_time_relative',\n",
      "       '10_coefficient_variation_mean_tcp_time_relative',\n",
      "       '10_lag-1AC_mean_tcp_time_relative',\n",
      "       '10_lag-2AC_mean_tcp_time_relative',\n",
      "       '10_lag-3AC_mean_tcp_time_relative'],\n",
      "      dtype='object', length=306)\n"
     ]
    }
   ],
   "source": [
    "cols = early_warning.columns[361:]\n",
    "print(cols)\n",
    "limit = 3794\n",
    "init = limit - 500\n",
    "x_train_novo = early_warning[cols].copy()[init:limit]\n",
    "y_real_novo = early_warning['has_bot'][init:limit]\n",
    "x_train_novo = x_train_novo.fillna(0)"
   ]
  },
  {
   "cell_type": "code",
   "execution_count": 6,
   "metadata": {},
   "outputs": [],
   "source": [
    "pca = FastICA(n_components=9).fit(x_train_novo)\n",
    "novo  = pca.transform(x_train_novo)"
   ]
  },
  {
   "cell_type": "code",
   "execution_count": 7,
   "metadata": {},
   "outputs": [],
   "source": [
    "resultado3 = announce(pd.DataFrame(novo),number_clusters=2,cluster_validity_metric = 'cdbw')\n",
    "pd.set_option('display.max_rows', resultado3.shape[0]+1)"
   ]
  },
  {
   "cell_type": "code",
   "execution_count": 8,
   "metadata": {},
   "outputs": [
    {
     "name": "stdout",
     "output_type": "stream",
     "text": [
      "GaussianMixture(covariance_type='spherical', n_components=2, random_state=0)\n",
      "[[428  30]\n",
      " [ 38   4]]\n",
      "              precision    recall  f1-score   support\n",
      "\n",
      "           0   0.918455  0.934498  0.926407       458\n",
      "           1   0.117647  0.095238  0.105263        42\n",
      "\n",
      "    accuracy                       0.864000       500\n",
      "   macro avg   0.518051  0.514868  0.515835       500\n",
      "weighted avg   0.851187  0.864000  0.857431       500\n",
      "\n"
     ]
    }
   ],
   "source": [
    "print(resultado3['Algorithm'][0]) \n",
    "clustering = eval(resultado3['Algorithm'][0]) \n",
    "y_test = clustering.fit_predict(novo)  \n",
    "print(confusion_matrix(y_real_novo, y_test)) \n",
    "print(classification_report(y_real_novo, y_test, digits=6))"
   ]
  },
  {
   "cell_type": "code",
   "execution_count": 9,
   "metadata": {},
   "outputs": [
    {
     "name": "stdout",
     "output_type": "stream",
     "text": [
      "4000.526435852051\n"
     ]
    }
   ],
   "source": [
    "end = time.time()\n",
    "print(end - start)"
   ]
  },
  {
   "cell_type": "code",
   "execution_count": null,
   "metadata": {},
   "outputs": [],
   "source": [
    "for i in range(1,100):\n",
    "    print(\"******************************************\")\n",
    "    print('o valor do i é:', i)\n",
    "    cols = early_warning.columns[361:]\n",
    "    print(cols)\n",
    "    limit = 3794\n",
    "    init = limit - 500\n",
    "    x_train_novo = early_warning[cols].copy()[init:limit]\n",
    "    y_real_novo = early_warning['has_bot'][init:limit]\n",
    "    x_train_novo = x_train_novo.fillna(0)\n",
    "    pca = FastICA(n_components=i).fit(x_train_novo)\n",
    "    novo  = pca.transform(x_train_novo)\n",
    "    resultado3 = announce(pd.DataFrame(novo),number_clusters=2,cluster_validity_metric = 'cdbw')\n",
    "    pd.set_option('display.max_rows', resultado3.shape[0]+1)\n",
    "    print(resultado3['Algorithm'][0]) \n",
    "    clustering = eval(resultado3['Algorithm'][0]) \n",
    "    y_test = clustering.fit_predict(novo)  \n",
    "    print(confusion_matrix(y_real_novo, y_test)) \n",
    "    print(classification_report(y_real_novo, y_test, digits=6))"
   ]
  }
 ],
 "metadata": {
  "kernelspec": {
   "display_name": "Python 3 (ipykernel)",
   "language": "python",
   "name": "python3"
  },
  "language_info": {
   "codemirror_mode": {
    "name": "ipython",
    "version": 3
   },
   "file_extension": ".py",
   "mimetype": "text/x-python",
   "name": "python",
   "nbconvert_exporter": "python",
   "pygments_lexer": "ipython3",
   "version": "3.10.12"
  }
 },
 "nbformat": 4,
 "nbformat_minor": 4
}
